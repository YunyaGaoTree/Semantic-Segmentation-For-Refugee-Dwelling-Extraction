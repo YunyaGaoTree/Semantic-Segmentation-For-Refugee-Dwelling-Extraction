{
 "cells": [
  {
   "cell_type": "markdown",
   "metadata": {
    "id": "EK5sz60nRQ25"
   },
   "source": [
    "# Classical Semantic Segmentation\n",
    "https://github.com/qubvel/segmentation_models.pytorch\n",
    "<br> \n",
    "**Before using the train.py, inference.py, evaluation.py, please change the \"path_data\" variable in the main function to the path of your dataset, e.g, /home/usr/Data**"
   ]
  },
  {
   "cell_type": "code",
   "execution_count": 2,
   "metadata": {
    "colab": {
     "base_uri": "https://localhost:8080/",
     "height": 36
    },
    "executionInfo": {
     "elapsed": 1654,
     "status": "ok",
     "timestamp": 1690202510432,
     "user": {
      "displayName": "Yunya Gao",
      "userId": "05443726764578958815"
     },
     "user_tz": -120
    },
    "id": "Jki_Wrpz64IG",
    "outputId": "dbdf89ba-6b0e-4e82-9fd4-e7f06c3caab7"
   },
   "outputs": [
    {
     "name": "stdout",
     "output_type": "stream",
     "text": [
      "Python version\n",
      "3.9.16 (main, Mar  8 2023, 14:00:05) \n",
      "[GCC 11.2.0]\n",
      "Version info.\n",
      "sys.version_info(major=3, minor=9, micro=16, releaselevel='final', serial=0)\n",
      "2.0.1\n",
      "Using device: cpu\n",
      "/home/yunya/anaconda3/envs/sam/Segmentation_Models_PyTorch\n"
     ]
    }
   ],
   "source": [
    "import torch\n",
    "print(torch.__version__)\n",
    "\n",
    "device = torch.device(\"cuda\" if torch.cuda.is_available() else \"cpu\")\n",
    "print(f\"Using device: {device}\")\n",
    "\n",
    "import os\n",
    "path = os.getcwd()\n",
    "print(path)"
   ]
  },
  {
   "cell_type": "markdown",
   "metadata": {},
   "source": [
    "## Training"
   ]
  },
  {
   "cell_type": "code",
   "execution_count": null,
   "metadata": {},
   "outputs": [],
   "source": [
    "\"\"\"available models, you can add more based on this github: https://github.com/qubvel/segmentation_models.pytorch\"\"\"\n",
    "# FPN_mit  FPN_res34   FPN_mob Unet_res34  Unet_mob  Unet_res101   MAnet_res34   MAnet_mob  MAnet_res101\n",
    "\n",
    "\"\"\"available changebale prompts\"\"\"\n",
    "# parser.add_argument('--epoch', default=50, type=int)\n",
    "# parser.add_argument('--data', default=None)\n",
    "# parser.add_argument('--model', default=None, help=\"FPN_mit  FPN_res34   FPN_mob Unet_res34  Unet_mob  Unet_res101   MAnet_res34   MAnet_mob  MAnet_res101\")\n",
    "# parser.add_argument('--upsample', default=\"1024\", help=\"1024 or SR\") \n",
    "# parser.add_argument('--size', default=\"small\", help=\"small or large, if there is only one training dataset, you can simply add a character or number to tag the \"train\" folder, e.g., train1\") \n",
    "# parser.add_argument('--uptype', default=\"\", help=\"nearest bilinear EDSR\") \n",
    "# parser.add_argument('--model_type', default=\"SAM\", help=\"SAM, SS\") "
   ]
  },
  {
   "cell_type": "markdown",
   "metadata": {},
   "source": [
    "#### Data Without Super Resolution (SR) code examples"
   ]
  },
  {
   "cell_type": "code",
   "execution_count": null,
   "metadata": {},
   "outputs": [],
   "source": [
    "!python train.py --data Dagaha2017 --size small --model FPN_mit --epoch 50\n",
    "!python train.py --data Dagaha2017 --size small --model FPN_res34 --epoch 50\n",
    "!python train.py --data Dagaha2017 --size small --model FPN_mob --epoch 50\n",
    "!python train.py --data Dagaha2017 --size small --model Unet_res34 --epoch 50\n",
    "!python train.py --data Dagaha2017 --size small --model Unet_mob --epoch 50\n",
    "!python train.py --data Dagaha2017 --size small --model Unet_res101 --epoch 50\n",
    "\n",
    "!python train.py --data Dagaha2017 --size large --model FPN_mit --epoch 50\n",
    "!python train.py --data Dagaha2017 --size large --model FPN_res34 --epoch 50\n",
    "!python train.py --data Dagaha2017 --size large --model FPN_mob --epoch 50\n",
    "!python train.py --data Dagaha2017 --size large --model Unet_res34 --epoch 50\n",
    "!python train.py --data Dagaha2017 --size large --model Unet_mob --epoch 50\n",
    "!python train.py --data Dagaha2017 --size large --model Unet_res101 --epoch 50"
   ]
  },
  {
   "cell_type": "markdown",
   "metadata": {},
   "source": [
    "#### Data With Super Resolution (SR) code examples"
   ]
  },
  {
   "cell_type": "code",
   "execution_count": null,
   "metadata": {
    "scrolled": true,
    "tags": []
   },
   "outputs": [],
   "source": [
    "!python train.py --data Dagaha2017 --size small --model FPN_mit --epoch 50 --upsample SR --uptype bilinear\n",
    "!python train.py --data Dagaha2017 --size small --model FPN_mit --epoch 50 --upsample SR --uptype nearest\n",
    "!python train.py --data Dagaha2017 --size small --model FPN_mit --epoch 50 --upsample SR --uptype EDSR"
   ]
  },
  {
   "cell_type": "markdown",
   "metadata": {},
   "source": [
    "## Inference"
   ]
  },
  {
   "cell_type": "markdown",
   "metadata": {},
   "source": [
    "#### Data Without Super Resolution (SR) code examples"
   ]
  },
  {
   "cell_type": "code",
   "execution_count": null,
   "metadata": {},
   "outputs": [],
   "source": [
    "!torchrun inference.py --data Dagaha2017 --size small --model FPN_mit"
   ]
  },
  {
   "cell_type": "markdown",
   "metadata": {},
   "source": [
    "#### Data With Super Resolution (SR) code examples"
   ]
  },
  {
   "cell_type": "code",
   "execution_count": null,
   "metadata": {
    "tags": []
   },
   "outputs": [],
   "source": [
    "!torchrun inference.py --data Dagaha2017 --size small --model FPN_mit --upsample SR --uptype bilinear"
   ]
  },
  {
   "cell_type": "markdown",
   "metadata": {},
   "source": [
    "## Evaluation"
   ]
  },
  {
   "cell_type": "markdown",
   "metadata": {},
   "source": [
    "#### Data Without Super Resolution (SR) code examples"
   ]
  },
  {
   "cell_type": "code",
   "execution_count": null,
   "metadata": {
    "tags": []
   },
   "outputs": [],
   "source": [
    "!python evaluation.py --data Dagaha2017 --size small --model FPN_mit --upsample SR --uptype bilinear"
   ]
  },
  {
   "cell_type": "markdown",
   "metadata": {},
   "source": [
    "#### Data With Super Resolution (SR) code examples"
   ]
  },
  {
   "cell_type": "code",
   "execution_count": null,
   "metadata": {
    "scrolled": true,
    "tags": []
   },
   "outputs": [],
   "source": [
    "!python evaluation.py --data Dagaha2017 --size small --model FPN_mit --upsample SR --uptype bilinear"
   ]
  }
 ],
 "metadata": {
  "accelerator": "GPU",
  "colab": {
   "gpuType": "V100",
   "machine_shape": "hm",
   "provenance": []
  },
  "kernelspec": {
   "display_name": "sam",
   "language": "python",
   "name": "sam"
  },
  "language_info": {
   "codemirror_mode": {
    "name": "ipython",
    "version": 3
   },
   "file_extension": ".py",
   "mimetype": "text/x-python",
   "name": "python",
   "nbconvert_exporter": "python",
   "pygments_lexer": "ipython3",
   "version": "3.9.16"
  }
 },
 "nbformat": 4,
 "nbformat_minor": 4
}
